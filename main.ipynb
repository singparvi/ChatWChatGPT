{
 "cells": [
  {
   "cell_type": "code",
   "execution_count": 6,
   "metadata": {},
   "outputs": [
    {
     "name": "stdout",
     "output_type": "stream",
     "text": [
      "\n",
      "\n",
      "Fantastic! I appreciate you taking the time to quickly address the issue with the public link. It's now functioning properly. Thank you!\n"
     ]
    }
   ],
   "source": [
    "import openai as ai\n",
    "# Packages for env or isolating sensitive information to a secret file\n",
    "import os\n",
    "from os.path import join, dirname\n",
    "from dotenv import load_dotenv\n",
    "\n",
    "# Load env variables from .env\n",
    "# create your own .env file and assign your own API_Key like:\n",
    "# API_Key = '<insert your API key here from beta.openai.com -> View API keys'\n",
    "\n",
    "dotenv_path = join('.env')\n",
    "load_dotenv(dotenv_path)\n",
    "ai.api_key = os.environ.get(\"API_Key\")\n",
    "\n",
    "def generate_gpt3_response(user_text, print_output=False):\n",
    "    \"\"\"\n",
    "    Query OpenAI GPT-3 for the specific key and get back a response\n",
    "    :type user_text: str the user's text to query for\n",
    "    :type print_output: boolean whether or not to print the raw output JSON\n",
    "    \"\"\"\n",
    "    completions = ai.Completion.create(\n",
    "        engine='text-davinci-003',  # Determines the quality, speed, and cost.\n",
    "        temperature=0.5,            # Level of creativity in the response\n",
    "        prompt=user_text,           # What the user typed in\n",
    "        max_tokens=100,             # Maximum tokens in the prompt AND response\n",
    "        n=1,                        # The number of completions to generate\n",
    "        stop=None,                  # An optional setting to control response generation\n",
    "    )\n",
    "\n",
    "    # Displaying the output can be helpful if things go wrong\n",
    "    if print_output:\n",
    "        print(completions)\n",
    "\n",
    "    # Return the first choice's text\n",
    "    return print(completions.choices[0].text)\n",
    "\n",
    "generate_gpt3_response(\"word the following email better: \\\n",
    "Sample: Perfect! I have taken the time to check the public link and it is fixed. Thank you for your prompt action. \")"
   ]
  }
 ],
 "metadata": {
  "kernelspec": {
   "display_name": "venv",
   "language": "python",
   "name": "python3"
  },
  "language_info": {
   "codemirror_mode": {
    "name": "ipython",
    "version": 3
   },
   "file_extension": ".py",
   "mimetype": "text/x-python",
   "name": "python",
   "nbconvert_exporter": "python",
   "pygments_lexer": "ipython3",
   "version": "3.10.6"
  },
  "orig_nbformat": 4,
  "vscode": {
   "interpreter": {
    "hash": "a50a25613df14dc09cf8db5a401b46255afa03a836f04debe6b7f5105d484d26"
   }
  }
 },
 "nbformat": 4,
 "nbformat_minor": 2
}
